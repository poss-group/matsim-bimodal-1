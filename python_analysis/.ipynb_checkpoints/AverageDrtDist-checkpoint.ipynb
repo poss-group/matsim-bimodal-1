{
 "cells": [
  {
   "cell_type": "code",
   "execution_count": 7,
   "id": "be2dc962",
   "metadata": {},
   "outputs": [],
   "source": [
    "import numpy as np\n",
    "import matplotlib.pyplot as plt\n",
    "import scipy.integrate"
   ]
  },
  {
   "cell_type": "code",
   "execution_count": 29,
   "id": "417e9a7a",
   "metadata": {},
   "outputs": [
    {
     "name": "stdout",
     "output_type": "stream",
     "text": [
      "Normalization factor for InverseGamma distribution:  856.6604564695375\n",
      "Normalization factor for InverseGamma distribution:  1713.3209129390743\n",
      "Normalization factor for InverseGamma distribution:  2569.981369408624\n",
      "Normalization factor for InverseGamma distribution:  3426.6418258781496\n",
      "Normalization factor for InverseGamma distribution:  4283.302282347652\n"
     ]
    }
   ],
   "source": [
    "def inverseGammaDistUnnormalized(x, d_mean, k=3.1):\n",
    "    if (x==0):\n",
    "        return 0\n",
    "    else:\n",
    "        z = x/d_mean\n",
    "        return (z**(-k))*np.exp(-(k-2)/z)\n",
    "\n",
    "N = 5\n",
    "mean_dists = np.linspace(1000, 5000, N)\n",
    "d_drt = np.zeros(N)\n",
    "beta = 1/6*(np.sqrt(2)+np.log(1+np.sqrt(2)))\n",
    "\n",
    "for i,mean_dist in enumerate(mean_dists):\n",
    "    invGammaDistUnnormMean = lambda x: inverseGammaDistUnnormalized(x, mean_dist)\n",
    "    normalization_inverse_gamma = scipy.integrate.quad(invGammaDistUnnormMean,0,np.infty)[0]\n",
    "\n",
    "    print(\"Normalization factor for InverseGamma distribution: \", normalization_inverse_gamma)\n",
    "\n",
    "    def inverseGammaDist_(x):\n",
    "        return invGammaDistUnnormMean(x)/normalization_inverse_gamma\n",
    "\n",
    "    rpr_ = lambda x: x*inverseGammaDist_(x)\n",
    "\n",
    "    def getBimFrac_(dcut):\n",
    "        return scipy.integrate.quad(inverseGammaDist, dcut, np.infty)[0]\n",
    "\n",
    "    def getBimFracAvDist_(ell, dcut):\n",
    "        return getBimFrac_(dcut)*2*beta*ell\n",
    "\n",
    "    def getUniFrac_(dcut):\n",
    "        return 1 - getBim_Frac_(dcut)\n",
    "\n",
    "    def getUniFracAvDist_(dcut):\n",
    "        return scipy.integrate.quad(rpr_, 0, dcut)[0]\n",
    "\n",
    "    rpr = np.vectorize(rpr_)\n",
    "    inverseGammaDist = np.vectorize(inverseGammaDist_)\n",
    "    getBimFrac = np.vectorize(getBimFrac_)\n",
    "    getUniFrac = np.vectorize(getUniFrac_)\n",
    "    getBimFracAvDist = np.vectorize(getBimFracAvDist_)\n",
    "    getUniFracAvDist = np.vectorize(getUniFracAvDist_)\n",
    "    average_dist_theory = scipy.integrate.quad(rpr_,0,np.infty)[0]\n",
    "    \n",
    "    ell = mean_dist\n",
    "    dcut = 2*beta*ell\n",
    "    d_drt[i] = (getBimFracAvDist(ell,dcut)+getUniFracAvDist(dcut))/average_dist_theory\n",
    "#     d_drt[i] = getBimFracAvDist(ell,dcut)/average_dist_theory\n",
    "#     d_drt[i] = getUniFracAvDist(dcut)/average_dist_theory"
   ]
  },
  {
   "cell_type": "code",
   "execution_count": 30,
   "id": "cc44fad2",
   "metadata": {},
   "outputs": [
    {
     "data": {
      "image/png": "[encoded data removed]",
      "text/plain": [
       "<Figure size 432x288 with 1 Axes>"
      ]
     },
     "metadata": {
      "needs_background": "light"
     },
     "output_type": "display_data"
    }
   ],
   "source": [
    "plt.scatter(mean_dists, d_drt)\n",
    "\n",
    "plt.ylim(0,None)\n",
    "plt.show()"
   ]
  },
  {
   "cell_type": "code",
   "execution_count": null,
   "id": "8d5f74e6",
   "metadata": {},
   "outputs": [],
   "source": []
  }
 ],
 "metadata": {
  "kernelspec": {
   "display_name": "Python 3 (ipykernel)",
   "language": "python",
   "name": "python3"
  },
  "language_info": {
   "codemirror_mode": {
    "name": "ipython",
    "version": 3
   },
   "file_extension": ".py",
   "mimetype": "text/x-python",
   "name": "python",
   "nbconvert_exporter": "python",
   "pygments_lexer": "ipython3",
   "version": "3.7.0"
  }
 },
 "nbformat": 4,
 "nbformat_minor": 5
}
